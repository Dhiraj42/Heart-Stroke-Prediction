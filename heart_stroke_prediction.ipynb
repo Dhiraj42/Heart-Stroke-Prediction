{
 "cells": [
  {
   "cell_type": "code",
   "execution_count": 1,
   "id": "9b890b43",
   "metadata": {},
   "outputs": [],
   "source": [
    "import numpy as np\n",
    "import pandas as pd\n",
    "import matplotlib.pyplot as plt"
   ]
  },
  {
   "cell_type": "code",
   "execution_count": 2,
   "id": "ffe3622c",
   "metadata": {},
   "outputs": [],
   "source": [
    "df=pd.read_csv(\"healthcare-dataset-stroke-data.csv\")"
   ]
  },
  {
   "cell_type": "code",
   "execution_count": 3,
   "id": "8b6143b8",
   "metadata": {},
   "outputs": [
    {
     "data": {
      "text/html": [
       "<div>\n",
       "<style scoped>\n",
       "    .dataframe tbody tr th:only-of-type {\n",
       "        vertical-align: middle;\n",
       "    }\n",
       "\n",
       "    .dataframe tbody tr th {\n",
       "        vertical-align: top;\n",
       "    }\n",
       "\n",
       "    .dataframe thead th {\n",
       "        text-align: right;\n",
       "    }\n",
       "</style>\n",
       "<table border=\"1\" class=\"dataframe\">\n",
       "  <thead>\n",
       "    <tr style=\"text-align: right;\">\n",
       "      <th></th>\n",
       "      <th>id</th>\n",
       "      <th>gender</th>\n",
       "      <th>age</th>\n",
       "      <th>hypertension</th>\n",
       "      <th>heart_disease</th>\n",
       "      <th>ever_married</th>\n",
       "      <th>work_type</th>\n",
       "      <th>Residence_type</th>\n",
       "      <th>avg_glucose_level</th>\n",
       "      <th>bmi</th>\n",
       "      <th>smoking_status</th>\n",
       "      <th>stroke</th>\n",
       "    </tr>\n",
       "  </thead>\n",
       "  <tbody>\n",
       "    <tr>\n",
       "      <th>0</th>\n",
       "      <td>9046</td>\n",
       "      <td>Male</td>\n",
       "      <td>67.0</td>\n",
       "      <td>0</td>\n",
       "      <td>1</td>\n",
       "      <td>Yes</td>\n",
       "      <td>Private</td>\n",
       "      <td>Urban</td>\n",
       "      <td>228.69</td>\n",
       "      <td>36.6</td>\n",
       "      <td>formerly smoked</td>\n",
       "      <td>1</td>\n",
       "    </tr>\n",
       "    <tr>\n",
       "      <th>1</th>\n",
       "      <td>51676</td>\n",
       "      <td>Female</td>\n",
       "      <td>61.0</td>\n",
       "      <td>0</td>\n",
       "      <td>0</td>\n",
       "      <td>Yes</td>\n",
       "      <td>Self-employed</td>\n",
       "      <td>Rural</td>\n",
       "      <td>202.21</td>\n",
       "      <td>NaN</td>\n",
       "      <td>never smoked</td>\n",
       "      <td>1</td>\n",
       "    </tr>\n",
       "    <tr>\n",
       "      <th>2</th>\n",
       "      <td>31112</td>\n",
       "      <td>Male</td>\n",
       "      <td>80.0</td>\n",
       "      <td>0</td>\n",
       "      <td>1</td>\n",
       "      <td>Yes</td>\n",
       "      <td>Private</td>\n",
       "      <td>Rural</td>\n",
       "      <td>105.92</td>\n",
       "      <td>32.5</td>\n",
       "      <td>never smoked</td>\n",
       "      <td>1</td>\n",
       "    </tr>\n",
       "    <tr>\n",
       "      <th>3</th>\n",
       "      <td>60182</td>\n",
       "      <td>Female</td>\n",
       "      <td>49.0</td>\n",
       "      <td>0</td>\n",
       "      <td>0</td>\n",
       "      <td>Yes</td>\n",
       "      <td>Private</td>\n",
       "      <td>Urban</td>\n",
       "      <td>171.23</td>\n",
       "      <td>34.4</td>\n",
       "      <td>smokes</td>\n",
       "      <td>1</td>\n",
       "    </tr>\n",
       "    <tr>\n",
       "      <th>4</th>\n",
       "      <td>1665</td>\n",
       "      <td>Female</td>\n",
       "      <td>79.0</td>\n",
       "      <td>1</td>\n",
       "      <td>0</td>\n",
       "      <td>Yes</td>\n",
       "      <td>Self-employed</td>\n",
       "      <td>Rural</td>\n",
       "      <td>174.12</td>\n",
       "      <td>24.0</td>\n",
       "      <td>never smoked</td>\n",
       "      <td>1</td>\n",
       "    </tr>\n",
       "  </tbody>\n",
       "</table>\n",
       "</div>"
      ],
      "text/plain": [
       "      id  gender   age  hypertension  heart_disease ever_married  \\\n",
       "0   9046    Male  67.0             0              1          Yes   \n",
       "1  51676  Female  61.0             0              0          Yes   \n",
       "2  31112    Male  80.0             0              1          Yes   \n",
       "3  60182  Female  49.0             0              0          Yes   \n",
       "4   1665  Female  79.0             1              0          Yes   \n",
       "\n",
       "       work_type Residence_type  avg_glucose_level   bmi   smoking_status  \\\n",
       "0        Private          Urban             228.69  36.6  formerly smoked   \n",
       "1  Self-employed          Rural             202.21   NaN     never smoked   \n",
       "2        Private          Rural             105.92  32.5     never smoked   \n",
       "3        Private          Urban             171.23  34.4           smokes   \n",
       "4  Self-employed          Rural             174.12  24.0     never smoked   \n",
       "\n",
       "   stroke  \n",
       "0       1  \n",
       "1       1  \n",
       "2       1  \n",
       "3       1  \n",
       "4       1  "
      ]
     },
     "execution_count": 3,
     "metadata": {},
     "output_type": "execute_result"
    }
   ],
   "source": [
    "df.head()"
   ]
  },
  {
   "cell_type": "code",
   "execution_count": 4,
   "id": "1d8e0b23",
   "metadata": {},
   "outputs": [
    {
     "data": {
      "text/plain": [
       "(5110, 12)"
      ]
     },
     "execution_count": 4,
     "metadata": {},
     "output_type": "execute_result"
    }
   ],
   "source": [
    "df.shape"
   ]
  },
  {
   "cell_type": "code",
   "execution_count": 5,
   "id": "052e4529",
   "metadata": {
    "scrolled": true
   },
   "outputs": [
    {
     "data": {
      "text/plain": [
       "0    4861\n",
       "1     249\n",
       "Name: stroke, dtype: int64"
      ]
     },
     "execution_count": 5,
     "metadata": {},
     "output_type": "execute_result"
    }
   ],
   "source": [
    "df[\"stroke\"].value_counts()"
   ]
  },
  {
   "cell_type": "code",
   "execution_count": 6,
   "id": "bd08dabb",
   "metadata": {},
   "outputs": [
    {
     "data": {
      "text/plain": [
       "Private          2925\n",
       "Self-employed     819\n",
       "children          687\n",
       "Govt_job          657\n",
       "Never_worked       22\n",
       "Name: work_type, dtype: int64"
      ]
     },
     "execution_count": 6,
     "metadata": {},
     "output_type": "execute_result"
    }
   ],
   "source": [
    "df[\"work_type\"].value_counts()"
   ]
  },
  {
   "cell_type": "code",
   "execution_count": 7,
   "id": "dc77993d",
   "metadata": {},
   "outputs": [
    {
     "data": {
      "text/plain": [
       "0    4834\n",
       "1     276\n",
       "Name: heart_disease, dtype: int64"
      ]
     },
     "execution_count": 7,
     "metadata": {},
     "output_type": "execute_result"
    }
   ],
   "source": [
    "df[\"heart_disease\"].value_counts()"
   ]
  },
  {
   "cell_type": "code",
   "execution_count": 8,
   "id": "0c5f9970",
   "metadata": {},
   "outputs": [
    {
     "data": {
      "text/plain": [
       "0    4612\n",
       "1     498\n",
       "Name: hypertension, dtype: int64"
      ]
     },
     "execution_count": 8,
     "metadata": {},
     "output_type": "execute_result"
    }
   ],
   "source": [
    "df[\"hypertension\"].value_counts()"
   ]
  },
  {
   "cell_type": "code",
   "execution_count": 9,
   "id": "35221be9",
   "metadata": {},
   "outputs": [
    {
     "data": {
      "text/plain": [
       "Yes    3353\n",
       "No     1757\n",
       "Name: ever_married, dtype: int64"
      ]
     },
     "execution_count": 9,
     "metadata": {},
     "output_type": "execute_result"
    }
   ],
   "source": [
    "df[\"ever_married\"].value_counts()"
   ]
  },
  {
   "cell_type": "code",
   "execution_count": 10,
   "id": "d08bbb72",
   "metadata": {},
   "outputs": [
    {
     "data": {
      "text/plain": [
       "Urban    2596\n",
       "Rural    2514\n",
       "Name: Residence_type, dtype: int64"
      ]
     },
     "execution_count": 10,
     "metadata": {},
     "output_type": "execute_result"
    }
   ],
   "source": [
    "df[\"Residence_type\"].value_counts()"
   ]
  },
  {
   "cell_type": "code",
   "execution_count": 11,
   "id": "3c05553b",
   "metadata": {},
   "outputs": [
    {
     "data": {
      "text/plain": [
       "never smoked       1892\n",
       "Unknown            1544\n",
       "formerly smoked     885\n",
       "smokes              789\n",
       "Name: smoking_status, dtype: int64"
      ]
     },
     "execution_count": 11,
     "metadata": {},
     "output_type": "execute_result"
    }
   ],
   "source": [
    "df[\"smoking_status\"].value_counts()"
   ]
  },
  {
   "cell_type": "code",
   "execution_count": 12,
   "id": "c40d6760",
   "metadata": {},
   "outputs": [
    {
     "data": {
      "text/plain": [
       "id                     0\n",
       "gender                 0\n",
       "age                    0\n",
       "hypertension           0\n",
       "heart_disease          0\n",
       "ever_married           0\n",
       "work_type              0\n",
       "Residence_type         0\n",
       "avg_glucose_level      0\n",
       "bmi                  201\n",
       "smoking_status         0\n",
       "stroke                 0\n",
       "dtype: int64"
      ]
     },
     "execution_count": 12,
     "metadata": {},
     "output_type": "execute_result"
    }
   ],
   "source": [
    "df.isnull().sum()"
   ]
  },
  {
   "cell_type": "code",
   "execution_count": 13,
   "id": "9162f209",
   "metadata": {},
   "outputs": [],
   "source": [
    "df[\"bmi\"].fillna(df[\"bmi\"].mean(),inplace=True)"
   ]
  },
  {
   "cell_type": "code",
   "execution_count": 14,
   "id": "4c943908",
   "metadata": {},
   "outputs": [
    {
     "data": {
      "text/plain": [
       "id                   0\n",
       "gender               0\n",
       "age                  0\n",
       "hypertension         0\n",
       "heart_disease        0\n",
       "ever_married         0\n",
       "work_type            0\n",
       "Residence_type       0\n",
       "avg_glucose_level    0\n",
       "bmi                  0\n",
       "smoking_status       0\n",
       "stroke               0\n",
       "dtype: int64"
      ]
     },
     "execution_count": 14,
     "metadata": {},
     "output_type": "execute_result"
    }
   ],
   "source": [
    "df.isnull().sum()"
   ]
  },
  {
   "cell_type": "code",
   "execution_count": 15,
   "id": "c4810eab",
   "metadata": {},
   "outputs": [],
   "source": [
    "df['gender'].replace({'Male':1,'Female':0,\"Other\":1},inplace=True)\n",
    "df['ever_married'].replace({'Yes':1,'No':0},inplace=True)\n",
    "df['Residence_type'].replace({'Urban':1,'Rural':0},inplace=True)"
   ]
  },
  {
   "cell_type": "code",
   "execution_count": 16,
   "id": "2e0b41be",
   "metadata": {},
   "outputs": [
    {
     "data": {
      "text/html": [
       "<div>\n",
       "<style scoped>\n",
       "    .dataframe tbody tr th:only-of-type {\n",
       "        vertical-align: middle;\n",
       "    }\n",
       "\n",
       "    .dataframe tbody tr th {\n",
       "        vertical-align: top;\n",
       "    }\n",
       "\n",
       "    .dataframe thead th {\n",
       "        text-align: right;\n",
       "    }\n",
       "</style>\n",
       "<table border=\"1\" class=\"dataframe\">\n",
       "  <thead>\n",
       "    <tr style=\"text-align: right;\">\n",
       "      <th></th>\n",
       "      <th>id</th>\n",
       "      <th>gender</th>\n",
       "      <th>age</th>\n",
       "      <th>hypertension</th>\n",
       "      <th>heart_disease</th>\n",
       "      <th>ever_married</th>\n",
       "      <th>work_type</th>\n",
       "      <th>Residence_type</th>\n",
       "      <th>avg_glucose_level</th>\n",
       "      <th>bmi</th>\n",
       "      <th>smoking_status</th>\n",
       "      <th>stroke</th>\n",
       "    </tr>\n",
       "  </thead>\n",
       "  <tbody>\n",
       "    <tr>\n",
       "      <th>0</th>\n",
       "      <td>9046</td>\n",
       "      <td>1</td>\n",
       "      <td>67.0</td>\n",
       "      <td>0</td>\n",
       "      <td>1</td>\n",
       "      <td>1</td>\n",
       "      <td>Private</td>\n",
       "      <td>1</td>\n",
       "      <td>228.69</td>\n",
       "      <td>36.600000</td>\n",
       "      <td>formerly smoked</td>\n",
       "      <td>1</td>\n",
       "    </tr>\n",
       "    <tr>\n",
       "      <th>1</th>\n",
       "      <td>51676</td>\n",
       "      <td>0</td>\n",
       "      <td>61.0</td>\n",
       "      <td>0</td>\n",
       "      <td>0</td>\n",
       "      <td>1</td>\n",
       "      <td>Self-employed</td>\n",
       "      <td>0</td>\n",
       "      <td>202.21</td>\n",
       "      <td>28.893237</td>\n",
       "      <td>never smoked</td>\n",
       "      <td>1</td>\n",
       "    </tr>\n",
       "    <tr>\n",
       "      <th>2</th>\n",
       "      <td>31112</td>\n",
       "      <td>1</td>\n",
       "      <td>80.0</td>\n",
       "      <td>0</td>\n",
       "      <td>1</td>\n",
       "      <td>1</td>\n",
       "      <td>Private</td>\n",
       "      <td>0</td>\n",
       "      <td>105.92</td>\n",
       "      <td>32.500000</td>\n",
       "      <td>never smoked</td>\n",
       "      <td>1</td>\n",
       "    </tr>\n",
       "    <tr>\n",
       "      <th>3</th>\n",
       "      <td>60182</td>\n",
       "      <td>0</td>\n",
       "      <td>49.0</td>\n",
       "      <td>0</td>\n",
       "      <td>0</td>\n",
       "      <td>1</td>\n",
       "      <td>Private</td>\n",
       "      <td>1</td>\n",
       "      <td>171.23</td>\n",
       "      <td>34.400000</td>\n",
       "      <td>smokes</td>\n",
       "      <td>1</td>\n",
       "    </tr>\n",
       "    <tr>\n",
       "      <th>4</th>\n",
       "      <td>1665</td>\n",
       "      <td>0</td>\n",
       "      <td>79.0</td>\n",
       "      <td>1</td>\n",
       "      <td>0</td>\n",
       "      <td>1</td>\n",
       "      <td>Self-employed</td>\n",
       "      <td>0</td>\n",
       "      <td>174.12</td>\n",
       "      <td>24.000000</td>\n",
       "      <td>never smoked</td>\n",
       "      <td>1</td>\n",
       "    </tr>\n",
       "  </tbody>\n",
       "</table>\n",
       "</div>"
      ],
      "text/plain": [
       "      id  gender   age  hypertension  heart_disease  ever_married  \\\n",
       "0   9046       1  67.0             0              1             1   \n",
       "1  51676       0  61.0             0              0             1   \n",
       "2  31112       1  80.0             0              1             1   \n",
       "3  60182       0  49.0             0              0             1   \n",
       "4   1665       0  79.0             1              0             1   \n",
       "\n",
       "       work_type  Residence_type  avg_glucose_level        bmi  \\\n",
       "0        Private               1             228.69  36.600000   \n",
       "1  Self-employed               0             202.21  28.893237   \n",
       "2        Private               0             105.92  32.500000   \n",
       "3        Private               1             171.23  34.400000   \n",
       "4  Self-employed               0             174.12  24.000000   \n",
       "\n",
       "    smoking_status  stroke  \n",
       "0  formerly smoked       1  \n",
       "1     never smoked       1  \n",
       "2     never smoked       1  \n",
       "3           smokes       1  \n",
       "4     never smoked       1  "
      ]
     },
     "execution_count": 16,
     "metadata": {},
     "output_type": "execute_result"
    }
   ],
   "source": [
    "df.head()"
   ]
  },
  {
   "cell_type": "code",
   "execution_count": 17,
   "id": "ff916019",
   "metadata": {},
   "outputs": [],
   "source": [
    "df.drop(\"work_type\",axis=1,inplace=True)\n",
    "df.drop(\"id\",axis=1,inplace=True)"
   ]
  },
  {
   "cell_type": "code",
   "execution_count": 18,
   "id": "739adcdb",
   "metadata": {},
   "outputs": [
    {
     "data": {
      "text/html": [
       "<div>\n",
       "<style scoped>\n",
       "    .dataframe tbody tr th:only-of-type {\n",
       "        vertical-align: middle;\n",
       "    }\n",
       "\n",
       "    .dataframe tbody tr th {\n",
       "        vertical-align: top;\n",
       "    }\n",
       "\n",
       "    .dataframe thead th {\n",
       "        text-align: right;\n",
       "    }\n",
       "</style>\n",
       "<table border=\"1\" class=\"dataframe\">\n",
       "  <thead>\n",
       "    <tr style=\"text-align: right;\">\n",
       "      <th></th>\n",
       "      <th>gender</th>\n",
       "      <th>age</th>\n",
       "      <th>hypertension</th>\n",
       "      <th>heart_disease</th>\n",
       "      <th>ever_married</th>\n",
       "      <th>Residence_type</th>\n",
       "      <th>avg_glucose_level</th>\n",
       "      <th>bmi</th>\n",
       "      <th>smoking_status</th>\n",
       "      <th>stroke</th>\n",
       "    </tr>\n",
       "  </thead>\n",
       "  <tbody>\n",
       "    <tr>\n",
       "      <th>0</th>\n",
       "      <td>1</td>\n",
       "      <td>67.0</td>\n",
       "      <td>0</td>\n",
       "      <td>1</td>\n",
       "      <td>1</td>\n",
       "      <td>1</td>\n",
       "      <td>228.69</td>\n",
       "      <td>36.600000</td>\n",
       "      <td>formerly smoked</td>\n",
       "      <td>1</td>\n",
       "    </tr>\n",
       "    <tr>\n",
       "      <th>1</th>\n",
       "      <td>0</td>\n",
       "      <td>61.0</td>\n",
       "      <td>0</td>\n",
       "      <td>0</td>\n",
       "      <td>1</td>\n",
       "      <td>0</td>\n",
       "      <td>202.21</td>\n",
       "      <td>28.893237</td>\n",
       "      <td>never smoked</td>\n",
       "      <td>1</td>\n",
       "    </tr>\n",
       "    <tr>\n",
       "      <th>2</th>\n",
       "      <td>1</td>\n",
       "      <td>80.0</td>\n",
       "      <td>0</td>\n",
       "      <td>1</td>\n",
       "      <td>1</td>\n",
       "      <td>0</td>\n",
       "      <td>105.92</td>\n",
       "      <td>32.500000</td>\n",
       "      <td>never smoked</td>\n",
       "      <td>1</td>\n",
       "    </tr>\n",
       "    <tr>\n",
       "      <th>3</th>\n",
       "      <td>0</td>\n",
       "      <td>49.0</td>\n",
       "      <td>0</td>\n",
       "      <td>0</td>\n",
       "      <td>1</td>\n",
       "      <td>1</td>\n",
       "      <td>171.23</td>\n",
       "      <td>34.400000</td>\n",
       "      <td>smokes</td>\n",
       "      <td>1</td>\n",
       "    </tr>\n",
       "    <tr>\n",
       "      <th>4</th>\n",
       "      <td>0</td>\n",
       "      <td>79.0</td>\n",
       "      <td>1</td>\n",
       "      <td>0</td>\n",
       "      <td>1</td>\n",
       "      <td>0</td>\n",
       "      <td>174.12</td>\n",
       "      <td>24.000000</td>\n",
       "      <td>never smoked</td>\n",
       "      <td>1</td>\n",
       "    </tr>\n",
       "  </tbody>\n",
       "</table>\n",
       "</div>"
      ],
      "text/plain": [
       "   gender   age  hypertension  heart_disease  ever_married  Residence_type  \\\n",
       "0       1  67.0             0              1             1               1   \n",
       "1       0  61.0             0              0             1               0   \n",
       "2       1  80.0             0              1             1               0   \n",
       "3       0  49.0             0              0             1               1   \n",
       "4       0  79.0             1              0             1               0   \n",
       "\n",
       "   avg_glucose_level        bmi   smoking_status  stroke  \n",
       "0             228.69  36.600000  formerly smoked       1  \n",
       "1             202.21  28.893237     never smoked       1  \n",
       "2             105.92  32.500000     never smoked       1  \n",
       "3             171.23  34.400000           smokes       1  \n",
       "4             174.12  24.000000     never smoked       1  "
      ]
     },
     "execution_count": 18,
     "metadata": {},
     "output_type": "execute_result"
    }
   ],
   "source": [
    "df.head()"
   ]
  },
  {
   "cell_type": "code",
   "execution_count": 19,
   "id": "97f76f34",
   "metadata": {},
   "outputs": [],
   "source": [
    "df=pd.get_dummies(data=df,columns=[\"smoking_status\"])"
   ]
  },
  {
   "cell_type": "code",
   "execution_count": 20,
   "id": "b743061e",
   "metadata": {},
   "outputs": [
    {
     "data": {
      "text/html": [
       "<div>\n",
       "<style scoped>\n",
       "    .dataframe tbody tr th:only-of-type {\n",
       "        vertical-align: middle;\n",
       "    }\n",
       "\n",
       "    .dataframe tbody tr th {\n",
       "        vertical-align: top;\n",
       "    }\n",
       "\n",
       "    .dataframe thead th {\n",
       "        text-align: right;\n",
       "    }\n",
       "</style>\n",
       "<table border=\"1\" class=\"dataframe\">\n",
       "  <thead>\n",
       "    <tr style=\"text-align: right;\">\n",
       "      <th></th>\n",
       "      <th>gender</th>\n",
       "      <th>age</th>\n",
       "      <th>hypertension</th>\n",
       "      <th>heart_disease</th>\n",
       "      <th>ever_married</th>\n",
       "      <th>Residence_type</th>\n",
       "      <th>avg_glucose_level</th>\n",
       "      <th>bmi</th>\n",
       "      <th>stroke</th>\n",
       "      <th>smoking_status_Unknown</th>\n",
       "      <th>smoking_status_formerly smoked</th>\n",
       "      <th>smoking_status_never smoked</th>\n",
       "      <th>smoking_status_smokes</th>\n",
       "    </tr>\n",
       "  </thead>\n",
       "  <tbody>\n",
       "    <tr>\n",
       "      <th>0</th>\n",
       "      <td>1</td>\n",
       "      <td>67.0</td>\n",
       "      <td>0</td>\n",
       "      <td>1</td>\n",
       "      <td>1</td>\n",
       "      <td>1</td>\n",
       "      <td>228.69</td>\n",
       "      <td>36.600000</td>\n",
       "      <td>1</td>\n",
       "      <td>0</td>\n",
       "      <td>1</td>\n",
       "      <td>0</td>\n",
       "      <td>0</td>\n",
       "    </tr>\n",
       "    <tr>\n",
       "      <th>1</th>\n",
       "      <td>0</td>\n",
       "      <td>61.0</td>\n",
       "      <td>0</td>\n",
       "      <td>0</td>\n",
       "      <td>1</td>\n",
       "      <td>0</td>\n",
       "      <td>202.21</td>\n",
       "      <td>28.893237</td>\n",
       "      <td>1</td>\n",
       "      <td>0</td>\n",
       "      <td>0</td>\n",
       "      <td>1</td>\n",
       "      <td>0</td>\n",
       "    </tr>\n",
       "    <tr>\n",
       "      <th>2</th>\n",
       "      <td>1</td>\n",
       "      <td>80.0</td>\n",
       "      <td>0</td>\n",
       "      <td>1</td>\n",
       "      <td>1</td>\n",
       "      <td>0</td>\n",
       "      <td>105.92</td>\n",
       "      <td>32.500000</td>\n",
       "      <td>1</td>\n",
       "      <td>0</td>\n",
       "      <td>0</td>\n",
       "      <td>1</td>\n",
       "      <td>0</td>\n",
       "    </tr>\n",
       "    <tr>\n",
       "      <th>3</th>\n",
       "      <td>0</td>\n",
       "      <td>49.0</td>\n",
       "      <td>0</td>\n",
       "      <td>0</td>\n",
       "      <td>1</td>\n",
       "      <td>1</td>\n",
       "      <td>171.23</td>\n",
       "      <td>34.400000</td>\n",
       "      <td>1</td>\n",
       "      <td>0</td>\n",
       "      <td>0</td>\n",
       "      <td>0</td>\n",
       "      <td>1</td>\n",
       "    </tr>\n",
       "    <tr>\n",
       "      <th>4</th>\n",
       "      <td>0</td>\n",
       "      <td>79.0</td>\n",
       "      <td>1</td>\n",
       "      <td>0</td>\n",
       "      <td>1</td>\n",
       "      <td>0</td>\n",
       "      <td>174.12</td>\n",
       "      <td>24.000000</td>\n",
       "      <td>1</td>\n",
       "      <td>0</td>\n",
       "      <td>0</td>\n",
       "      <td>1</td>\n",
       "      <td>0</td>\n",
       "    </tr>\n",
       "  </tbody>\n",
       "</table>\n",
       "</div>"
      ],
      "text/plain": [
       "   gender   age  hypertension  heart_disease  ever_married  Residence_type  \\\n",
       "0       1  67.0             0              1             1               1   \n",
       "1       0  61.0             0              0             1               0   \n",
       "2       1  80.0             0              1             1               0   \n",
       "3       0  49.0             0              0             1               1   \n",
       "4       0  79.0             1              0             1               0   \n",
       "\n",
       "   avg_glucose_level        bmi  stroke  smoking_status_Unknown  \\\n",
       "0             228.69  36.600000       1                       0   \n",
       "1             202.21  28.893237       1                       0   \n",
       "2             105.92  32.500000       1                       0   \n",
       "3             171.23  34.400000       1                       0   \n",
       "4             174.12  24.000000       1                       0   \n",
       "\n",
       "   smoking_status_formerly smoked  smoking_status_never smoked  \\\n",
       "0                               1                            0   \n",
       "1                               0                            1   \n",
       "2                               0                            1   \n",
       "3                               0                            0   \n",
       "4                               0                            1   \n",
       "\n",
       "   smoking_status_smokes  \n",
       "0                      0  \n",
       "1                      0  \n",
       "2                      0  \n",
       "3                      1  \n",
       "4                      0  "
      ]
     },
     "execution_count": 20,
     "metadata": {},
     "output_type": "execute_result"
    }
   ],
   "source": [
    "df.head()"
   ]
  },
  {
   "cell_type": "code",
   "execution_count": 21,
   "id": "0cb608f3",
   "metadata": {},
   "outputs": [],
   "source": [
    "df.drop(\"smoking_status_Unknown\",axis=1,inplace=True)"
   ]
  },
  {
   "cell_type": "code",
   "execution_count": 22,
   "id": "ad0f8da5",
   "metadata": {},
   "outputs": [
    {
     "data": {
      "text/html": [
       "<div>\n",
       "<style scoped>\n",
       "    .dataframe tbody tr th:only-of-type {\n",
       "        vertical-align: middle;\n",
       "    }\n",
       "\n",
       "    .dataframe tbody tr th {\n",
       "        vertical-align: top;\n",
       "    }\n",
       "\n",
       "    .dataframe thead th {\n",
       "        text-align: right;\n",
       "    }\n",
       "</style>\n",
       "<table border=\"1\" class=\"dataframe\">\n",
       "  <thead>\n",
       "    <tr style=\"text-align: right;\">\n",
       "      <th></th>\n",
       "      <th>gender</th>\n",
       "      <th>age</th>\n",
       "      <th>hypertension</th>\n",
       "      <th>heart_disease</th>\n",
       "      <th>ever_married</th>\n",
       "      <th>Residence_type</th>\n",
       "      <th>avg_glucose_level</th>\n",
       "      <th>bmi</th>\n",
       "      <th>stroke</th>\n",
       "      <th>smoking_status_formerly smoked</th>\n",
       "      <th>smoking_status_never smoked</th>\n",
       "      <th>smoking_status_smokes</th>\n",
       "    </tr>\n",
       "  </thead>\n",
       "  <tbody>\n",
       "    <tr>\n",
       "      <th>0</th>\n",
       "      <td>1</td>\n",
       "      <td>67.0</td>\n",
       "      <td>0</td>\n",
       "      <td>1</td>\n",
       "      <td>1</td>\n",
       "      <td>1</td>\n",
       "      <td>228.69</td>\n",
       "      <td>36.600000</td>\n",
       "      <td>1</td>\n",
       "      <td>1</td>\n",
       "      <td>0</td>\n",
       "      <td>0</td>\n",
       "    </tr>\n",
       "    <tr>\n",
       "      <th>1</th>\n",
       "      <td>0</td>\n",
       "      <td>61.0</td>\n",
       "      <td>0</td>\n",
       "      <td>0</td>\n",
       "      <td>1</td>\n",
       "      <td>0</td>\n",
       "      <td>202.21</td>\n",
       "      <td>28.893237</td>\n",
       "      <td>1</td>\n",
       "      <td>0</td>\n",
       "      <td>1</td>\n",
       "      <td>0</td>\n",
       "    </tr>\n",
       "    <tr>\n",
       "      <th>2</th>\n",
       "      <td>1</td>\n",
       "      <td>80.0</td>\n",
       "      <td>0</td>\n",
       "      <td>1</td>\n",
       "      <td>1</td>\n",
       "      <td>0</td>\n",
       "      <td>105.92</td>\n",
       "      <td>32.500000</td>\n",
       "      <td>1</td>\n",
       "      <td>0</td>\n",
       "      <td>1</td>\n",
       "      <td>0</td>\n",
       "    </tr>\n",
       "    <tr>\n",
       "      <th>3</th>\n",
       "      <td>0</td>\n",
       "      <td>49.0</td>\n",
       "      <td>0</td>\n",
       "      <td>0</td>\n",
       "      <td>1</td>\n",
       "      <td>1</td>\n",
       "      <td>171.23</td>\n",
       "      <td>34.400000</td>\n",
       "      <td>1</td>\n",
       "      <td>0</td>\n",
       "      <td>0</td>\n",
       "      <td>1</td>\n",
       "    </tr>\n",
       "    <tr>\n",
       "      <th>4</th>\n",
       "      <td>0</td>\n",
       "      <td>79.0</td>\n",
       "      <td>1</td>\n",
       "      <td>0</td>\n",
       "      <td>1</td>\n",
       "      <td>0</td>\n",
       "      <td>174.12</td>\n",
       "      <td>24.000000</td>\n",
       "      <td>1</td>\n",
       "      <td>0</td>\n",
       "      <td>1</td>\n",
       "      <td>0</td>\n",
       "    </tr>\n",
       "  </tbody>\n",
       "</table>\n",
       "</div>"
      ],
      "text/plain": [
       "   gender   age  hypertension  heart_disease  ever_married  Residence_type  \\\n",
       "0       1  67.0             0              1             1               1   \n",
       "1       0  61.0             0              0             1               0   \n",
       "2       1  80.0             0              1             1               0   \n",
       "3       0  49.0             0              0             1               1   \n",
       "4       0  79.0             1              0             1               0   \n",
       "\n",
       "   avg_glucose_level        bmi  stroke  smoking_status_formerly smoked  \\\n",
       "0             228.69  36.600000       1                               1   \n",
       "1             202.21  28.893237       1                               0   \n",
       "2             105.92  32.500000       1                               0   \n",
       "3             171.23  34.400000       1                               0   \n",
       "4             174.12  24.000000       1                               0   \n",
       "\n",
       "   smoking_status_never smoked  smoking_status_smokes  \n",
       "0                            0                      0  \n",
       "1                            1                      0  \n",
       "2                            1                      0  \n",
       "3                            0                      1  \n",
       "4                            1                      0  "
      ]
     },
     "execution_count": 22,
     "metadata": {},
     "output_type": "execute_result"
    }
   ],
   "source": [
    "df.head()"
   ]
  },
  {
   "cell_type": "code",
   "execution_count": 23,
   "id": "b2566f6e",
   "metadata": {},
   "outputs": [
    {
     "data": {
      "text/plain": [
       "gender                            0\n",
       "age                               0\n",
       "hypertension                      0\n",
       "heart_disease                     0\n",
       "ever_married                      0\n",
       "Residence_type                    0\n",
       "avg_glucose_level                 0\n",
       "bmi                               0\n",
       "stroke                            0\n",
       "smoking_status_formerly smoked    0\n",
       "smoking_status_never smoked       0\n",
       "smoking_status_smokes             0\n",
       "dtype: int64"
      ]
     },
     "execution_count": 23,
     "metadata": {},
     "output_type": "execute_result"
    }
   ],
   "source": [
    "df.isnull().sum()"
   ]
  },
  {
   "cell_type": "code",
   "execution_count": 24,
   "id": "005c767e",
   "metadata": {},
   "outputs": [],
   "source": [
    "col=[\"age\",\"avg_glucose_level\",\"bmi\"]\n",
    "from sklearn.preprocessing import MinMaxScaler\n",
    "scalar=MinMaxScaler()\n",
    "df[col]=scalar.fit_transform(df[col])"
   ]
  },
  {
   "cell_type": "code",
   "execution_count": 25,
   "id": "7643dffd",
   "metadata": {},
   "outputs": [
    {
     "data": {
      "text/html": [
       "<div>\n",
       "<style scoped>\n",
       "    .dataframe tbody tr th:only-of-type {\n",
       "        vertical-align: middle;\n",
       "    }\n",
       "\n",
       "    .dataframe tbody tr th {\n",
       "        vertical-align: top;\n",
       "    }\n",
       "\n",
       "    .dataframe thead th {\n",
       "        text-align: right;\n",
       "    }\n",
       "</style>\n",
       "<table border=\"1\" class=\"dataframe\">\n",
       "  <thead>\n",
       "    <tr style=\"text-align: right;\">\n",
       "      <th></th>\n",
       "      <th>gender</th>\n",
       "      <th>age</th>\n",
       "      <th>hypertension</th>\n",
       "      <th>heart_disease</th>\n",
       "      <th>ever_married</th>\n",
       "      <th>Residence_type</th>\n",
       "      <th>avg_glucose_level</th>\n",
       "      <th>bmi</th>\n",
       "      <th>stroke</th>\n",
       "      <th>smoking_status_formerly smoked</th>\n",
       "      <th>smoking_status_never smoked</th>\n",
       "      <th>smoking_status_smokes</th>\n",
       "    </tr>\n",
       "  </thead>\n",
       "  <tbody>\n",
       "    <tr>\n",
       "      <th>0</th>\n",
       "      <td>1</td>\n",
       "      <td>0.816895</td>\n",
       "      <td>0</td>\n",
       "      <td>1</td>\n",
       "      <td>1</td>\n",
       "      <td>1</td>\n",
       "      <td>0.801265</td>\n",
       "      <td>0.301260</td>\n",
       "      <td>1</td>\n",
       "      <td>1</td>\n",
       "      <td>0</td>\n",
       "      <td>0</td>\n",
       "    </tr>\n",
       "    <tr>\n",
       "      <th>1</th>\n",
       "      <td>0</td>\n",
       "      <td>0.743652</td>\n",
       "      <td>0</td>\n",
       "      <td>0</td>\n",
       "      <td>1</td>\n",
       "      <td>0</td>\n",
       "      <td>0.679023</td>\n",
       "      <td>0.212981</td>\n",
       "      <td>1</td>\n",
       "      <td>0</td>\n",
       "      <td>1</td>\n",
       "      <td>0</td>\n",
       "    </tr>\n",
       "    <tr>\n",
       "      <th>2</th>\n",
       "      <td>1</td>\n",
       "      <td>0.975586</td>\n",
       "      <td>0</td>\n",
       "      <td>1</td>\n",
       "      <td>1</td>\n",
       "      <td>0</td>\n",
       "      <td>0.234512</td>\n",
       "      <td>0.254296</td>\n",
       "      <td>1</td>\n",
       "      <td>0</td>\n",
       "      <td>1</td>\n",
       "      <td>0</td>\n",
       "    </tr>\n",
       "    <tr>\n",
       "      <th>3</th>\n",
       "      <td>0</td>\n",
       "      <td>0.597168</td>\n",
       "      <td>0</td>\n",
       "      <td>0</td>\n",
       "      <td>1</td>\n",
       "      <td>1</td>\n",
       "      <td>0.536008</td>\n",
       "      <td>0.276060</td>\n",
       "      <td>1</td>\n",
       "      <td>0</td>\n",
       "      <td>0</td>\n",
       "      <td>1</td>\n",
       "    </tr>\n",
       "    <tr>\n",
       "      <th>4</th>\n",
       "      <td>0</td>\n",
       "      <td>0.963379</td>\n",
       "      <td>1</td>\n",
       "      <td>0</td>\n",
       "      <td>1</td>\n",
       "      <td>0</td>\n",
       "      <td>0.549349</td>\n",
       "      <td>0.156930</td>\n",
       "      <td>1</td>\n",
       "      <td>0</td>\n",
       "      <td>1</td>\n",
       "      <td>0</td>\n",
       "    </tr>\n",
       "  </tbody>\n",
       "</table>\n",
       "</div>"
      ],
      "text/plain": [
       "   gender       age  hypertension  heart_disease  ever_married  \\\n",
       "0       1  0.816895             0              1             1   \n",
       "1       0  0.743652             0              0             1   \n",
       "2       1  0.975586             0              1             1   \n",
       "3       0  0.597168             0              0             1   \n",
       "4       0  0.963379             1              0             1   \n",
       "\n",
       "   Residence_type  avg_glucose_level       bmi  stroke  \\\n",
       "0               1           0.801265  0.301260       1   \n",
       "1               0           0.679023  0.212981       1   \n",
       "2               0           0.234512  0.254296       1   \n",
       "3               1           0.536008  0.276060       1   \n",
       "4               0           0.549349  0.156930       1   \n",
       "\n",
       "   smoking_status_formerly smoked  smoking_status_never smoked  \\\n",
       "0                               1                            0   \n",
       "1                               0                            1   \n",
       "2                               0                            1   \n",
       "3                               0                            0   \n",
       "4                               0                            1   \n",
       "\n",
       "   smoking_status_smokes  \n",
       "0                      0  \n",
       "1                      0  \n",
       "2                      0  \n",
       "3                      1  \n",
       "4                      0  "
      ]
     },
     "execution_count": 25,
     "metadata": {},
     "output_type": "execute_result"
    }
   ],
   "source": [
    "df.head()"
   ]
  },
  {
   "cell_type": "code",
   "execution_count": 26,
   "id": "6521b113",
   "metadata": {},
   "outputs": [
    {
     "data": {
      "text/plain": [
       "0    2994\n",
       "1    2116\n",
       "Name: gender, dtype: int64"
      ]
     },
     "execution_count": 26,
     "metadata": {},
     "output_type": "execute_result"
    }
   ],
   "source": [
    "df[\"gender\"].value_counts()"
   ]
  },
  {
   "cell_type": "code",
   "execution_count": 27,
   "id": "c50a1dc2",
   "metadata": {},
   "outputs": [
    {
     "data": {
      "text/plain": [
       "gender                              int64\n",
       "age                               float64\n",
       "hypertension                        int64\n",
       "heart_disease                       int64\n",
       "ever_married                        int64\n",
       "Residence_type                      int64\n",
       "avg_glucose_level                 float64\n",
       "bmi                               float64\n",
       "stroke                              int64\n",
       "smoking_status_formerly smoked      uint8\n",
       "smoking_status_never smoked         uint8\n",
       "smoking_status_smokes               uint8\n",
       "dtype: object"
      ]
     },
     "execution_count": 27,
     "metadata": {},
     "output_type": "execute_result"
    }
   ],
   "source": [
    "df.dtypes"
   ]
  },
  {
   "cell_type": "code",
   "execution_count": 28,
   "id": "d4715fd0",
   "metadata": {},
   "outputs": [],
   "source": [
    "x=df.drop(\"stroke\",axis=1)\n",
    "y=df[\"stroke\"]"
   ]
  },
  {
   "cell_type": "code",
   "execution_count": 29,
   "id": "93beed52",
   "metadata": {},
   "outputs": [],
   "source": [
    "from sklearn.model_selection import train_test_split"
   ]
  },
  {
   "cell_type": "code",
   "execution_count": 30,
   "id": "7a637cb7",
   "metadata": {},
   "outputs": [],
   "source": [
    "x_train,x_test,y_train,y_test=train_test_split(x,y,test_size=0.20)"
   ]
  },
  {
   "cell_type": "code",
   "execution_count": 31,
   "id": "3f768ff7",
   "metadata": {},
   "outputs": [
    {
     "data": {
      "text/plain": [
       "(4088, 11)"
      ]
     },
     "execution_count": 31,
     "metadata": {},
     "output_type": "execute_result"
    }
   ],
   "source": [
    "x_train.shape"
   ]
  },
  {
   "cell_type": "code",
   "execution_count": 32,
   "id": "6b10aed0",
   "metadata": {},
   "outputs": [
    {
     "data": {
      "text/plain": [
       "(1022, 11)"
      ]
     },
     "execution_count": 32,
     "metadata": {},
     "output_type": "execute_result"
    }
   ],
   "source": [
    "x_test.shape"
   ]
  },
  {
   "cell_type": "code",
   "execution_count": 33,
   "id": "0a234dd9",
   "metadata": {},
   "outputs": [],
   "source": [
    "import tensorflow as tf\n",
    "from tensorflow import keras"
   ]
  },
  {
   "cell_type": "code",
   "execution_count": 42,
   "id": "38c05d9b",
   "metadata": {},
   "outputs": [
    {
     "name": "stdout",
     "output_type": "stream",
     "text": [
      "Epoch 1/100\n",
      "128/128 [==============================] - 3s 4ms/step - loss: 0.4642 - accuracy: 0.9425\n",
      "Epoch 2/100\n",
      "128/128 [==============================] - 1s 4ms/step - loss: 0.2299 - accuracy: 0.9499\n",
      "Epoch 3/100\n",
      "128/128 [==============================] - 1s 4ms/step - loss: 0.2110 - accuracy: 0.9499\n",
      "Epoch 4/100\n",
      "128/128 [==============================] - 1s 4ms/step - loss: 0.1991 - accuracy: 0.9499\n",
      "Epoch 5/100\n",
      "128/128 [==============================] - 1s 4ms/step - loss: 0.1901 - accuracy: 0.9499\n",
      "Epoch 6/100\n",
      "128/128 [==============================] - 1s 4ms/step - loss: 0.1833 - accuracy: 0.9499\n",
      "Epoch 7/100\n",
      "128/128 [==============================] - 1s 4ms/step - loss: 0.1779 - accuracy: 0.9499\n",
      "Epoch 8/100\n",
      "128/128 [==============================] - 1s 4ms/step - loss: 0.1739 - accuracy: 0.9499\n",
      "Epoch 9/100\n",
      "128/128 [==============================] - 1s 4ms/step - loss: 0.1712 - accuracy: 0.9499\n",
      "Epoch 10/100\n",
      "128/128 [==============================] - 1s 4ms/step - loss: 0.1684 - accuracy: 0.9499\n",
      "Epoch 11/100\n",
      "128/128 [==============================] - 1s 4ms/step - loss: 0.1671 - accuracy: 0.9499\n",
      "Epoch 12/100\n",
      "128/128 [==============================] - 1s 4ms/step - loss: 0.1653 - accuracy: 0.9499\n",
      "Epoch 13/100\n",
      "128/128 [==============================] - 1s 4ms/step - loss: 0.1645 - accuracy: 0.9499\n",
      "Epoch 14/100\n",
      "128/128 [==============================] - 1s 4ms/step - loss: 0.1632 - accuracy: 0.9499\n",
      "Epoch 15/100\n",
      "128/128 [==============================] - 1s 4ms/step - loss: 0.1627 - accuracy: 0.9499\n",
      "Epoch 16/100\n",
      "128/128 [==============================] - 1s 4ms/step - loss: 0.1622 - accuracy: 0.9499\n",
      "Epoch 17/100\n",
      "128/128 [==============================] - 1s 4ms/step - loss: 0.1614 - accuracy: 0.9499\n",
      "Epoch 18/100\n",
      "128/128 [==============================] - 1s 4ms/step - loss: 0.1614 - accuracy: 0.9499\n",
      "Epoch 19/100\n",
      "128/128 [==============================] - 1s 4ms/step - loss: 0.1598 - accuracy: 0.9499\n",
      "Epoch 20/100\n",
      "128/128 [==============================] - 1s 4ms/step - loss: 0.1602 - accuracy: 0.9499\n",
      "Epoch 21/100\n",
      "128/128 [==============================] - 1s 5ms/step - loss: 0.1595 - accuracy: 0.9499\n",
      "Epoch 22/100\n",
      "128/128 [==============================] - 1s 4ms/step - loss: 0.1587 - accuracy: 0.9499\n",
      "Epoch 23/100\n",
      "128/128 [==============================] - 1s 4ms/step - loss: 0.1589 - accuracy: 0.9499\n",
      "Epoch 24/100\n",
      "128/128 [==============================] - 1s 4ms/step - loss: 0.1584 - accuracy: 0.9499\n",
      "Epoch 25/100\n",
      "128/128 [==============================] - 1s 4ms/step - loss: 0.1580 - accuracy: 0.9499\n",
      "Epoch 26/100\n",
      "128/128 [==============================] - 1s 4ms/step - loss: 0.1572 - accuracy: 0.9499\n",
      "Epoch 27/100\n",
      "128/128 [==============================] - 1s 5ms/step - loss: 0.1574 - accuracy: 0.9499\n",
      "Epoch 28/100\n",
      "128/128 [==============================] - 1s 5ms/step - loss: 0.1568 - accuracy: 0.9499\n",
      "Epoch 29/100\n",
      "128/128 [==============================] - 1s 4ms/step - loss: 0.1569 - accuracy: 0.9499\n",
      "Epoch 30/100\n",
      "128/128 [==============================] - 1s 4ms/step - loss: 0.1568 - accuracy: 0.9499\n",
      "Epoch 31/100\n",
      "128/128 [==============================] - 1s 4ms/step - loss: 0.1570 - accuracy: 0.9499\n",
      "Epoch 32/100\n",
      "128/128 [==============================] - 1s 4ms/step - loss: 0.1569 - accuracy: 0.9499\n",
      "Epoch 33/100\n",
      "128/128 [==============================] - 1s 4ms/step - loss: 0.1562 - accuracy: 0.9499\n",
      "Epoch 34/100\n",
      "128/128 [==============================] - 1s 4ms/step - loss: 0.1558 - accuracy: 0.9499\n",
      "Epoch 35/100\n",
      "128/128 [==============================] - 1s 4ms/step - loss: 0.1558 - accuracy: 0.9499\n",
      "Epoch 36/100\n",
      "128/128 [==============================] - 1s 4ms/step - loss: 0.1554 - accuracy: 0.9499\n",
      "Epoch 37/100\n",
      "128/128 [==============================] - 1s 4ms/step - loss: 0.1560 - accuracy: 0.9499\n",
      "Epoch 38/100\n",
      "128/128 [==============================] - 1s 4ms/step - loss: 0.1551 - accuracy: 0.9499\n",
      "Epoch 39/100\n",
      "128/128 [==============================] - 1s 4ms/step - loss: 0.1551 - accuracy: 0.9499\n",
      "Epoch 40/100\n",
      "128/128 [==============================] - 1s 4ms/step - loss: 0.1552 - accuracy: 0.9499\n",
      "Epoch 41/100\n",
      "128/128 [==============================] - 1s 4ms/step - loss: 0.1553 - accuracy: 0.9499\n",
      "Epoch 42/100\n",
      "128/128 [==============================] - 1s 4ms/step - loss: 0.1549 - accuracy: 0.9499\n",
      "Epoch 43/100\n",
      "128/128 [==============================] - 1s 4ms/step - loss: 0.1553 - accuracy: 0.9499\n",
      "Epoch 44/100\n",
      "128/128 [==============================] - 1s 4ms/step - loss: 0.1548 - accuracy: 0.9499\n",
      "Epoch 45/100\n",
      "128/128 [==============================] - 1s 4ms/step - loss: 0.1549 - accuracy: 0.9499\n",
      "Epoch 46/100\n",
      "128/128 [==============================] - 1s 4ms/step - loss: 0.1543 - accuracy: 0.9499\n",
      "Epoch 47/100\n",
      "128/128 [==============================] - 1s 4ms/step - loss: 0.1545 - accuracy: 0.9499\n",
      "Epoch 48/100\n",
      "128/128 [==============================] - 1s 4ms/step - loss: 0.1544 - accuracy: 0.9499\n",
      "Epoch 49/100\n",
      "128/128 [==============================] - 1s 4ms/step - loss: 0.1543 - accuracy: 0.9499\n",
      "Epoch 50/100\n",
      "128/128 [==============================] - 1s 4ms/step - loss: 0.1545 - accuracy: 0.9499\n",
      "Epoch 51/100\n",
      "128/128 [==============================] - 1s 5ms/step - loss: 0.1546 - accuracy: 0.9499\n",
      "Epoch 52/100\n",
      "128/128 [==============================] - 1s 4ms/step - loss: 0.1542 - accuracy: 0.9499\n",
      "Epoch 53/100\n",
      "128/128 [==============================] - 0s 4ms/step - loss: 0.1536 - accuracy: 0.9499\n",
      "Epoch 54/100\n",
      "128/128 [==============================] - 0s 4ms/step - loss: 0.1533 - accuracy: 0.9499\n",
      "Epoch 55/100\n",
      "128/128 [==============================] - 1s 4ms/step - loss: 0.1535 - accuracy: 0.9501\n",
      "Epoch 56/100\n",
      "128/128 [==============================] - 1s 5ms/step - loss: 0.1532 - accuracy: 0.9501\n",
      "Epoch 57/100\n",
      "128/128 [==============================] - 1s 4ms/step - loss: 0.1536 - accuracy: 0.9499\n",
      "Epoch 58/100\n",
      "128/128 [==============================] - 1s 4ms/step - loss: 0.1531 - accuracy: 0.9501\n",
      "Epoch 59/100\n",
      "128/128 [==============================] - 0s 4ms/step - loss: 0.1527 - accuracy: 0.9499\n",
      "Epoch 60/100\n",
      "128/128 [==============================] - 0s 4ms/step - loss: 0.1531 - accuracy: 0.9501\n",
      "Epoch 61/100\n",
      "128/128 [==============================] - 1s 4ms/step - loss: 0.1529 - accuracy: 0.9501\n",
      "Epoch 62/100\n",
      "128/128 [==============================] - 0s 4ms/step - loss: 0.1532 - accuracy: 0.9499\n",
      "Epoch 63/100\n",
      "128/128 [==============================] - 1s 4ms/step - loss: 0.1535 - accuracy: 0.9501\n",
      "Epoch 64/100\n",
      "128/128 [==============================] - 0s 4ms/step - loss: 0.1529 - accuracy: 0.9501\n",
      "Epoch 65/100\n",
      "128/128 [==============================] - 0s 4ms/step - loss: 0.1532 - accuracy: 0.9499\n",
      "Epoch 66/100\n",
      "128/128 [==============================] - 0s 4ms/step - loss: 0.1532 - accuracy: 0.9501\n",
      "Epoch 67/100\n",
      "128/128 [==============================] - 0s 4ms/step - loss: 0.1530 - accuracy: 0.9501\n",
      "Epoch 68/100\n",
      "128/128 [==============================] - 1s 4ms/step - loss: 0.1521 - accuracy: 0.9499\n",
      "Epoch 69/100\n",
      "128/128 [==============================] - 1s 4ms/step - loss: 0.1523 - accuracy: 0.9503\n",
      "Epoch 70/100\n",
      "128/128 [==============================] - 1s 4ms/step - loss: 0.1530 - accuracy: 0.9499\n",
      "Epoch 71/100\n",
      "128/128 [==============================] - 1s 4ms/step - loss: 0.1523 - accuracy: 0.9501\n",
      "Epoch 72/100\n",
      "128/128 [==============================] - 0s 4ms/step - loss: 0.1523 - accuracy: 0.9499\n",
      "Epoch 73/100\n",
      "128/128 [==============================] - 0s 3ms/step - loss: 0.1522 - accuracy: 0.9501\n",
      "Epoch 74/100\n",
      "128/128 [==============================] - 0s 4ms/step - loss: 0.1519 - accuracy: 0.9499\n",
      "Epoch 75/100\n",
      "128/128 [==============================] - 1s 4ms/step - loss: 0.1523 - accuracy: 0.9503\n",
      "Epoch 76/100\n",
      "128/128 [==============================] - 1s 4ms/step - loss: 0.1529 - accuracy: 0.9496\n",
      "Epoch 77/100\n",
      "128/128 [==============================] - 0s 4ms/step - loss: 0.1521 - accuracy: 0.9499\n",
      "Epoch 78/100\n",
      "128/128 [==============================] - 1s 4ms/step - loss: 0.1524 - accuracy: 0.9499\n",
      "Epoch 79/100\n",
      "128/128 [==============================] - 1s 4ms/step - loss: 0.1521 - accuracy: 0.9496\n",
      "Epoch 80/100\n",
      "128/128 [==============================] - 1s 5ms/step - loss: 0.1523 - accuracy: 0.9501\n",
      "Epoch 81/100\n"
     ]
    },
    {
     "name": "stdout",
     "output_type": "stream",
     "text": [
      "128/128 [==============================] - 1s 4ms/step - loss: 0.1523 - accuracy: 0.9499\n",
      "Epoch 82/100\n",
      "128/128 [==============================] - 1s 4ms/step - loss: 0.1515 - accuracy: 0.9499\n",
      "Epoch 83/100\n",
      "128/128 [==============================] - 1s 4ms/step - loss: 0.1514 - accuracy: 0.9499\n",
      "Epoch 84/100\n",
      "128/128 [==============================] - 1s 4ms/step - loss: 0.1511 - accuracy: 0.9501\n",
      "Epoch 85/100\n",
      "128/128 [==============================] - 1s 4ms/step - loss: 0.1515 - accuracy: 0.9501\n",
      "Epoch 86/100\n",
      "128/128 [==============================] - 1s 4ms/step - loss: 0.1511 - accuracy: 0.9501\n",
      "Epoch 87/100\n",
      "128/128 [==============================] - 1s 4ms/step - loss: 0.1504 - accuracy: 0.9496\n",
      "Epoch 88/100\n",
      "128/128 [==============================] - 1s 4ms/step - loss: 0.1517 - accuracy: 0.9501\n",
      "Epoch 89/100\n",
      "128/128 [==============================] - 1s 4ms/step - loss: 0.1509 - accuracy: 0.9499\n",
      "Epoch 90/100\n",
      "128/128 [==============================] - 1s 4ms/step - loss: 0.1511 - accuracy: 0.9501\n",
      "Epoch 91/100\n",
      "128/128 [==============================] - 1s 4ms/step - loss: 0.1515 - accuracy: 0.9503\n",
      "Epoch 92/100\n",
      "128/128 [==============================] - 1s 4ms/step - loss: 0.1515 - accuracy: 0.9499\n",
      "Epoch 93/100\n",
      "128/128 [==============================] - 1s 4ms/step - loss: 0.1509 - accuracy: 0.9501\n",
      "Epoch 94/100\n",
      "128/128 [==============================] - 1s 4ms/step - loss: 0.1502 - accuracy: 0.9503\n",
      "Epoch 95/100\n",
      "128/128 [==============================] - 1s 4ms/step - loss: 0.1509 - accuracy: 0.9503\n",
      "Epoch 96/100\n",
      "128/128 [==============================] - 1s 5ms/step - loss: 0.1506 - accuracy: 0.9501\n",
      "Epoch 97/100\n",
      "128/128 [==============================] - 1s 4ms/step - loss: 0.1505 - accuracy: 0.9499\n",
      "Epoch 98/100\n",
      "128/128 [==============================] - 1s 4ms/step - loss: 0.1509 - accuracy: 0.9506\n",
      "Epoch 99/100\n",
      "128/128 [==============================] - 1s 4ms/step - loss: 0.1508 - accuracy: 0.9503\n",
      "Epoch 100/100\n",
      "128/128 [==============================] - 1s 4ms/step - loss: 0.1505 - accuracy: 0.9501\n"
     ]
    },
    {
     "data": {
      "text/plain": [
       "<keras.callbacks.History at 0x1b719d9a700>"
      ]
     },
     "execution_count": 42,
     "metadata": {},
     "output_type": "execute_result"
    }
   ],
   "source": [
    "model=keras.Sequential([\n",
    "    keras.layers.Dense(10,input_shape=(11,),activation=\"relu\"),\n",
    "    keras.layers.Dense(8,activation=\"relu\"),\n",
    "    keras.layers.Dense(5,activation=\"relu\"),\n",
    "    keras.layers.Dense(1,activation=\"sigmoid\")\n",
    "])\n",
    "model.compile(optimizer=\"adam\",\n",
    "             loss=\"binary_crossentropy\",\n",
    "             metrics=[\"accuracy\"])\n",
    "model.fit(x_train,y_train,epochs=100)"
   ]
  },
  {
   "cell_type": "code",
   "execution_count": 43,
   "id": "c2f4618a",
   "metadata": {},
   "outputs": [
    {
     "name": "stdout",
     "output_type": "stream",
     "text": [
      "32/32 [==============================] - 1s 3ms/step - loss: 0.1498 - accuracy: 0.9569\n"
     ]
    },
    {
     "data": {
      "text/plain": [
       "[0.14976264536380768, 0.9569471478462219]"
      ]
     },
     "execution_count": 43,
     "metadata": {},
     "output_type": "execute_result"
    }
   ],
   "source": [
    "model.evaluate(x_test,y_test)"
   ]
  },
  {
   "cell_type": "code",
   "execution_count": 44,
   "id": "91f0d2d8",
   "metadata": {},
   "outputs": [
    {
     "name": "stdout",
     "output_type": "stream",
     "text": [
      "32/32 [==============================] - 0s 4ms/step\n"
     ]
    }
   ],
   "source": [
    "yp=model.predict(x_test)"
   ]
  },
  {
   "cell_type": "code",
   "execution_count": 45,
   "id": "ea4b71c8",
   "metadata": {},
   "outputs": [],
   "source": [
    "y_pred=[]\n",
    "for element in yp:\n",
    "    if element>0.5:\n",
    "        y_pred.append(1.0)\n",
    "    else:\n",
    "        y_pred.append(0.0)"
   ]
  },
  {
   "cell_type": "code",
   "execution_count": 46,
   "id": "c1703e56",
   "metadata": {},
   "outputs": [],
   "source": [
    "compare=pd.DataFrame({\n",
    "    \"Actual\":y_test,\n",
    "    \"Predicted\":y_pred\n",
    "})"
   ]
  },
  {
   "cell_type": "code",
   "execution_count": 49,
   "id": "a2f2bd71",
   "metadata": {},
   "outputs": [
    {
     "data": {
      "text/html": [
       "<div>\n",
       "<style scoped>\n",
       "    .dataframe tbody tr th:only-of-type {\n",
       "        vertical-align: middle;\n",
       "    }\n",
       "\n",
       "    .dataframe tbody tr th {\n",
       "        vertical-align: top;\n",
       "    }\n",
       "\n",
       "    .dataframe thead th {\n",
       "        text-align: right;\n",
       "    }\n",
       "</style>\n",
       "<table border=\"1\" class=\"dataframe\">\n",
       "  <thead>\n",
       "    <tr style=\"text-align: right;\">\n",
       "      <th></th>\n",
       "      <th>Actual</th>\n",
       "      <th>Predicted</th>\n",
       "    </tr>\n",
       "  </thead>\n",
       "  <tbody>\n",
       "    <tr>\n",
       "      <th>851</th>\n",
       "      <td>0</td>\n",
       "      <td>0.0</td>\n",
       "    </tr>\n",
       "    <tr>\n",
       "      <th>1600</th>\n",
       "      <td>0</td>\n",
       "      <td>0.0</td>\n",
       "    </tr>\n",
       "    <tr>\n",
       "      <th>81</th>\n",
       "      <td>1</td>\n",
       "      <td>0.0</td>\n",
       "    </tr>\n",
       "    <tr>\n",
       "      <th>4377</th>\n",
       "      <td>0</td>\n",
       "      <td>0.0</td>\n",
       "    </tr>\n",
       "    <tr>\n",
       "      <th>3294</th>\n",
       "      <td>0</td>\n",
       "      <td>0.0</td>\n",
       "    </tr>\n",
       "    <tr>\n",
       "      <th>1065</th>\n",
       "      <td>0</td>\n",
       "      <td>0.0</td>\n",
       "    </tr>\n",
       "    <tr>\n",
       "      <th>3392</th>\n",
       "      <td>0</td>\n",
       "      <td>0.0</td>\n",
       "    </tr>\n",
       "    <tr>\n",
       "      <th>2272</th>\n",
       "      <td>0</td>\n",
       "      <td>0.0</td>\n",
       "    </tr>\n",
       "    <tr>\n",
       "      <th>1090</th>\n",
       "      <td>0</td>\n",
       "      <td>0.0</td>\n",
       "    </tr>\n",
       "    <tr>\n",
       "      <th>4587</th>\n",
       "      <td>0</td>\n",
       "      <td>0.0</td>\n",
       "    </tr>\n",
       "    <tr>\n",
       "      <th>2220</th>\n",
       "      <td>0</td>\n",
       "      <td>0.0</td>\n",
       "    </tr>\n",
       "    <tr>\n",
       "      <th>3005</th>\n",
       "      <td>0</td>\n",
       "      <td>0.0</td>\n",
       "    </tr>\n",
       "    <tr>\n",
       "      <th>341</th>\n",
       "      <td>0</td>\n",
       "      <td>0.0</td>\n",
       "    </tr>\n",
       "    <tr>\n",
       "      <th>4269</th>\n",
       "      <td>0</td>\n",
       "      <td>0.0</td>\n",
       "    </tr>\n",
       "    <tr>\n",
       "      <th>4905</th>\n",
       "      <td>0</td>\n",
       "      <td>0.0</td>\n",
       "    </tr>\n",
       "    <tr>\n",
       "      <th>763</th>\n",
       "      <td>0</td>\n",
       "      <td>0.0</td>\n",
       "    </tr>\n",
       "    <tr>\n",
       "      <th>4389</th>\n",
       "      <td>0</td>\n",
       "      <td>0.0</td>\n",
       "    </tr>\n",
       "    <tr>\n",
       "      <th>1335</th>\n",
       "      <td>0</td>\n",
       "      <td>0.0</td>\n",
       "    </tr>\n",
       "    <tr>\n",
       "      <th>4181</th>\n",
       "      <td>0</td>\n",
       "      <td>0.0</td>\n",
       "    </tr>\n",
       "    <tr>\n",
       "      <th>4111</th>\n",
       "      <td>0</td>\n",
       "      <td>0.0</td>\n",
       "    </tr>\n",
       "  </tbody>\n",
       "</table>\n",
       "</div>"
      ],
      "text/plain": [
       "      Actual  Predicted\n",
       "851        0        0.0\n",
       "1600       0        0.0\n",
       "81         1        0.0\n",
       "4377       0        0.0\n",
       "3294       0        0.0\n",
       "1065       0        0.0\n",
       "3392       0        0.0\n",
       "2272       0        0.0\n",
       "1090       0        0.0\n",
       "4587       0        0.0\n",
       "2220       0        0.0\n",
       "3005       0        0.0\n",
       "341        0        0.0\n",
       "4269       0        0.0\n",
       "4905       0        0.0\n",
       "763        0        0.0\n",
       "4389       0        0.0\n",
       "1335       0        0.0\n",
       "4181       0        0.0\n",
       "4111       0        0.0"
      ]
     },
     "execution_count": 49,
     "metadata": {},
     "output_type": "execute_result"
    }
   ],
   "source": [
    "compare.sample(20)"
   ]
  },
  {
   "cell_type": "code",
   "execution_count": 55,
   "id": "9326348e",
   "metadata": {},
   "outputs": [],
   "source": [
    "from sklearn.metrics import confusion_matrix,classification_report,f1_score,recall_score,precision_score,accuracy_score"
   ]
  },
  {
   "cell_type": "code",
   "execution_count": 56,
   "id": "74d2b310",
   "metadata": {},
   "outputs": [
    {
     "data": {
      "image/png": "[encoded data removed]",
      "text/plain": [
       "<Figure size 720x504 with 2 Axes>"
      ]
     },
     "metadata": {
      "needs_background": "light"
     },
     "output_type": "display_data"
    }
   ],
   "source": [
    "import seaborn as sn\n",
    "cm = tf.math.confusion_matrix(labels=y_test,predictions=y_pred)\n",
    "\n",
    "plt.figure(figsize = (10,7))\n",
    "sn.heatmap(cm, annot=True, fmt='d')\n",
    "plt.xlabel('Predicted')\n",
    "plt.ylabel('Truth')\n",
    "plt.show()"
   ]
  },
  {
   "cell_type": "code",
   "execution_count": 57,
   "id": "46b6e6c7",
   "metadata": {},
   "outputs": [
    {
     "name": "stderr",
     "output_type": "stream",
     "text": [
      "C:\\Users\\dhira\\anaconda3\\lib\\site-packages\\sklearn\\metrics\\_classification.py:1318: UndefinedMetricWarning: Precision and F-score are ill-defined and being set to 0.0 in labels with no predicted samples. Use `zero_division` parameter to control this behavior.\n",
      "  _warn_prf(average, modifier, msg_start, len(result))\n",
      "C:\\Users\\dhira\\anaconda3\\lib\\site-packages\\sklearn\\metrics\\_classification.py:1318: UndefinedMetricWarning: Precision and F-score are ill-defined and being set to 0.0 in labels with no predicted samples. Use `zero_division` parameter to control this behavior.\n",
      "  _warn_prf(average, modifier, msg_start, len(result))\n",
      "C:\\Users\\dhira\\anaconda3\\lib\\site-packages\\sklearn\\metrics\\_classification.py:1318: UndefinedMetricWarning: Precision and F-score are ill-defined and being set to 0.0 in labels with no predicted samples. Use `zero_division` parameter to control this behavior.\n",
      "  _warn_prf(average, modifier, msg_start, len(result))\n"
     ]
    },
    {
     "data": {
      "text/plain": [
       "'              precision    recall  f1-score   support\\n\\n           0       0.96      1.00      0.98       978\\n           1       0.00      0.00      0.00        44\\n\\n    accuracy                           0.96      1022\\n   macro avg       0.48      0.50      0.49      1022\\nweighted avg       0.92      0.96      0.94      1022\\n'"
      ]
     },
     "execution_count": 57,
     "metadata": {},
     "output_type": "execute_result"
    }
   ],
   "source": [
    "classification_report(y_test,y_pred)"
   ]
  },
  {
   "cell_type": "code",
   "execution_count": 58,
   "id": "645005fb",
   "metadata": {},
   "outputs": [
    {
     "name": "stderr",
     "output_type": "stream",
     "text": [
      "C:\\Users\\dhira\\anaconda3\\lib\\site-packages\\sklearn\\metrics\\_classification.py:1318: UndefinedMetricWarning: Precision is ill-defined and being set to 0.0 due to no predicted samples. Use `zero_division` parameter to control this behavior.\n",
      "  _warn_prf(average, modifier, msg_start, len(result))\n"
     ]
    },
    {
     "data": {
      "text/plain": [
       "0.0"
      ]
     },
     "execution_count": 58,
     "metadata": {},
     "output_type": "execute_result"
    }
   ],
   "source": [
    "precision_score(y_test,y_pred)"
   ]
  },
  {
   "cell_type": "code",
   "execution_count": 59,
   "id": "d55cc4d6",
   "metadata": {},
   "outputs": [
    {
     "data": {
      "text/plain": [
       "0.0"
      ]
     },
     "execution_count": 59,
     "metadata": {},
     "output_type": "execute_result"
    }
   ],
   "source": [
    "recall_score(y_test,y_pred)"
   ]
  },
  {
   "cell_type": "code",
   "execution_count": 60,
   "id": "cbfa891f",
   "metadata": {},
   "outputs": [
    {
     "data": {
      "text/plain": [
       "0.9569471624266145"
      ]
     },
     "execution_count": 60,
     "metadata": {},
     "output_type": "execute_result"
    }
   ],
   "source": [
    "accuracy_score(y_test,y_pred)"
   ]
  }
 ],
 "metadata": {
  "kernelspec": {
   "display_name": "Python 3 (ipykernel)",
   "language": "python",
   "name": "python3"
  },
  "language_info": {
   "codemirror_mode": {
    "name": "ipython",
    "version": 3
   },
   "file_extension": ".py",
   "mimetype": "text/x-python",
   "name": "python",
   "nbconvert_exporter": "python",
   "pygments_lexer": "ipython3",
   "version": "3.9.12"
  }
 },
 "nbformat": 4,
 "nbformat_minor": 5
}
